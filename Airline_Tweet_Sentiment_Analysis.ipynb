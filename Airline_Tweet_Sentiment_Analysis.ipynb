{
  "nbformat": 4,
  "nbformat_minor": 0,
  "metadata": {
    "colab": {
      "name": "Airline Tweet Sentiment Analysis.ipynb",
      "provenance": [],
      "collapsed_sections": [],
      "toc_visible": true,
      "include_colab_link": true
    },
    "kernelspec": {
      "display_name": "Python 3",
      "language": "python",
      "name": "python3"
    },
    "language_info": {
      "codemirror_mode": {
        "name": "ipython",
        "version": 3
      },
      "file_extension": ".py",
      "mimetype": "text/x-python",
      "name": "python",
      "nbconvert_exporter": "python",
      "pygments_lexer": "ipython3",
      "version": "3.7.7"
    },
    "toc": {
      "base_numbering": 1,
      "nav_menu": {},
      "number_sections": true,
      "sideBar": true,
      "skip_h1_title": false,
      "title_cell": "Table of Contents",
      "title_sidebar": "Contents",
      "toc_cell": false,
      "toc_position": {},
      "toc_section_display": true,
      "toc_window_display": true
    }
  },
  "cells": [
    {
      "cell_type": "markdown",
      "metadata": {
        "id": "view-in-github",
        "colab_type": "text"
      },
      "source": [
        "<a href=\"https://colab.research.google.com/github/adityakulkarni0910/Airline_Tweet_Sentiment_Analysis/blob/main/Airline_Tweet_Sentiment_Analysis.ipynb\" target=\"_parent\"><img src=\"https://colab.research.google.com/assets/colab-badge.svg\" alt=\"Open In Colab\"/></a>"
      ]
    },
    {
      "cell_type": "markdown",
      "metadata": {
        "id": "PipzvqdrDFL8"
      },
      "source": [
        "# Data Loading"
      ]
    },
    {
      "cell_type": "code",
      "metadata": {
        "id": "BIqtlSmkV7TT"
      },
      "source": [
        "import numpy as np\n",
        "import pandas as pd\n",
        "import matplotlib.pyplot as plt\n",
        "from sklearn.linear_model import LogisticRegression\n",
        "from sklearn.naive_bayes import GaussianNB\n",
        "import re\n",
        "from nltk import WordPunctTokenizer\n",
        "import nltk\n",
        "from sklearn.model_selection import train_test_split\n",
        "from sklearn.model_selection import GridSearchCV"
      ],
      "execution_count": null,
      "outputs": []
    },
    {
      "cell_type": "code",
      "metadata": {
        "id": "HbLjA2JUTyJl"
      },
      "source": [
        "train = pd.read_csv('train.csv',encoding='latin-1')\n",
        "test = pd.read_csv('test.csv',encoding='latin-1')"
      ],
      "execution_count": null,
      "outputs": []
    },
    {
      "cell_type": "code",
      "metadata": {
        "colab": {
          "base_uri": "https://localhost:8080/",
          "height": 197
        },
        "id": "_fawXFC9Fbq6",
        "outputId": "98eadbcf-676e-42de-f8d6-31b949f53e13"
      },
      "source": [
        "train.head()"
      ],
      "execution_count": null,
      "outputs": [
        {
          "output_type": "execute_result",
          "data": {
            "text/html": [
              "<div>\n",
              "<style scoped>\n",
              "    .dataframe tbody tr th:only-of-type {\n",
              "        vertical-align: middle;\n",
              "    }\n",
              "\n",
              "    .dataframe tbody tr th {\n",
              "        vertical-align: top;\n",
              "    }\n",
              "\n",
              "    .dataframe thead th {\n",
              "        text-align: right;\n",
              "    }\n",
              "</style>\n",
              "<table border=\"1\" class=\"dataframe\">\n",
              "  <thead>\n",
              "    <tr style=\"text-align: right;\">\n",
              "      <th></th>\n",
              "      <th>Id</th>\n",
              "      <th>text</th>\n",
              "      <th>Target</th>\n",
              "    </tr>\n",
              "  </thead>\n",
              "  <tbody>\n",
              "    <tr>\n",
              "      <th>0</th>\n",
              "      <td>1</td>\n",
              "      <td>@USAirways  ! THE WORST in customer service. @...</td>\n",
              "      <td>-1</td>\n",
              "    </tr>\n",
              "    <tr>\n",
              "      <th>1</th>\n",
              "      <td>2</td>\n",
              "      <td>@united call wait times are over 20 minutes an...</td>\n",
              "      <td>-1</td>\n",
              "    </tr>\n",
              "    <tr>\n",
              "      <th>2</th>\n",
              "      <td>3</td>\n",
              "      <td>@JetBlue what's up with the random delay on fl...</td>\n",
              "      <td>-1</td>\n",
              "    </tr>\n",
              "    <tr>\n",
              "      <th>3</th>\n",
              "      <td>4</td>\n",
              "      <td>@AmericanAir Good morning!  Wondering why my p...</td>\n",
              "      <td>0</td>\n",
              "    </tr>\n",
              "    <tr>\n",
              "      <th>4</th>\n",
              "      <td>5</td>\n",
              "      <td>@united UA 746. Pacific Rim and Date Night cut...</td>\n",
              "      <td>-1</td>\n",
              "    </tr>\n",
              "  </tbody>\n",
              "</table>\n",
              "</div>"
            ],
            "text/plain": [
              "   Id                                               text  Target\n",
              "0   1  @USAirways  ! THE WORST in customer service. @...      -1\n",
              "1   2  @united call wait times are over 20 minutes an...      -1\n",
              "2   3  @JetBlue what's up with the random delay on fl...      -1\n",
              "3   4  @AmericanAir Good morning!  Wondering why my p...       0\n",
              "4   5  @united UA 746. Pacific Rim and Date Night cut...      -1"
            ]
          },
          "metadata": {
            "tags": []
          },
          "execution_count": 429
        }
      ]
    },
    {
      "cell_type": "code",
      "metadata": {
        "colab": {
          "base_uri": "https://localhost:8080/",
          "height": 197
        },
        "id": "rpUiBmEuI5hM",
        "outputId": "3ec15004-492c-4fe7-a481-5c18e15e5718"
      },
      "source": [
        "test.head()"
      ],
      "execution_count": null,
      "outputs": [
        {
          "output_type": "execute_result",
          "data": {
            "text/html": [
              "<div>\n",
              "<style scoped>\n",
              "    .dataframe tbody tr th:only-of-type {\n",
              "        vertical-align: middle;\n",
              "    }\n",
              "\n",
              "    .dataframe tbody tr th {\n",
              "        vertical-align: top;\n",
              "    }\n",
              "\n",
              "    .dataframe thead th {\n",
              "        text-align: right;\n",
              "    }\n",
              "</style>\n",
              "<table border=\"1\" class=\"dataframe\">\n",
              "  <thead>\n",
              "    <tr style=\"text-align: right;\">\n",
              "      <th></th>\n",
              "      <th>id</th>\n",
              "      <th>text</th>\n",
              "    </tr>\n",
              "  </thead>\n",
              "  <tbody>\n",
              "    <tr>\n",
              "      <th>0</th>\n",
              "      <td>7322</td>\n",
              "      <td>@AmericanAir In car gng to DFW. Pulled over 1h...</td>\n",
              "    </tr>\n",
              "    <tr>\n",
              "      <th>1</th>\n",
              "      <td>7323</td>\n",
              "      <td>@AmericanAir after all, the plane didnÂÃÂªt ...</td>\n",
              "    </tr>\n",
              "    <tr>\n",
              "      <th>2</th>\n",
              "      <td>7324</td>\n",
              "      <td>@SouthwestAir can't believe how many paying cu...</td>\n",
              "    </tr>\n",
              "    <tr>\n",
              "      <th>3</th>\n",
              "      <td>7325</td>\n",
              "      <td>@USAirways I can legitimately say that I would...</td>\n",
              "    </tr>\n",
              "    <tr>\n",
              "      <th>4</th>\n",
              "      <td>7326</td>\n",
              "      <td>@AmericanAir still no response from AA. great ...</td>\n",
              "    </tr>\n",
              "  </tbody>\n",
              "</table>\n",
              "</div>"
            ],
            "text/plain": [
              "     id                                               text\n",
              "0  7322  @AmericanAir In car gng to DFW. Pulled over 1h...\n",
              "1  7323  @AmericanAir after all, the plane didnÂÃÂªt ...\n",
              "2  7324  @SouthwestAir can't believe how many paying cu...\n",
              "3  7325  @USAirways I can legitimately say that I would...\n",
              "4  7326  @AmericanAir still no response from AA. great ..."
            ]
          },
          "metadata": {
            "tags": []
          },
          "execution_count": 430
        }
      ]
    },
    {
      "cell_type": "code",
      "metadata": {
        "id": "erBjq4h2I5u5"
      },
      "source": [
        "#train, val = train_test_split(train,test_size=0.2,random_state=0)\n",
        "\n",
        "#train.shape, val.shape"
      ],
      "execution_count": null,
      "outputs": []
    },
    {
      "cell_type": "markdown",
      "metadata": {
        "id": "zTNpCnfqbpbO"
      },
      "source": [
        "# Preprocesing"
      ]
    },
    {
      "cell_type": "code",
      "metadata": {
        "id": "1gKQ_f0Yz6Iw"
      },
      "source": [
        "train['text'] = train['text'].apply(lambda x: re.split('https:\\/\\/.*', str(x))[0])"
      ],
      "execution_count": null,
      "outputs": []
    },
    {
      "cell_type": "code",
      "metadata": {
        "id": "JvyDQwsiCjaw"
      },
      "source": [
        "train['text'] = train['text'].apply(lambda x: re.split('\\s[^\\!\\?\\$]\\s', str(x))[0])"
      ],
      "execution_count": null,
      "outputs": []
    },
    {
      "cell_type": "code",
      "metadata": {
        "colab": {
          "base_uri": "https://localhost:8080/",
          "height": 407
        },
        "id": "YqzMTzYZIUGV",
        "outputId": "3fb5fa3d-421e-4a52-9216-d70f10398e08"
      },
      "source": [
        "train"
      ],
      "execution_count": null,
      "outputs": [
        {
          "output_type": "execute_result",
          "data": {
            "text/html": [
              "<div>\n",
              "<style scoped>\n",
              "    .dataframe tbody tr th:only-of-type {\n",
              "        vertical-align: middle;\n",
              "    }\n",
              "\n",
              "    .dataframe tbody tr th {\n",
              "        vertical-align: top;\n",
              "    }\n",
              "\n",
              "    .dataframe thead th {\n",
              "        text-align: right;\n",
              "    }\n",
              "</style>\n",
              "<table border=\"1\" class=\"dataframe\">\n",
              "  <thead>\n",
              "    <tr style=\"text-align: right;\">\n",
              "      <th></th>\n",
              "      <th>Id</th>\n",
              "      <th>text</th>\n",
              "      <th>Target</th>\n",
              "    </tr>\n",
              "  </thead>\n",
              "  <tbody>\n",
              "    <tr>\n",
              "      <th>0</th>\n",
              "      <td>1</td>\n",
              "      <td>@USAirways  ! THE WORST in customer service. @...</td>\n",
              "      <td>-1</td>\n",
              "    </tr>\n",
              "    <tr>\n",
              "      <th>1</th>\n",
              "      <td>2</td>\n",
              "      <td>@united call wait times are over 20 minutes an...</td>\n",
              "      <td>-1</td>\n",
              "    </tr>\n",
              "    <tr>\n",
              "      <th>2</th>\n",
              "      <td>3</td>\n",
              "      <td>@JetBlue what's up with the random delay on fl...</td>\n",
              "      <td>-1</td>\n",
              "    </tr>\n",
              "    <tr>\n",
              "      <th>3</th>\n",
              "      <td>4</td>\n",
              "      <td>@AmericanAir Good morning!  Wondering why my p...</td>\n",
              "      <td>0</td>\n",
              "    </tr>\n",
              "    <tr>\n",
              "      <th>4</th>\n",
              "      <td>5</td>\n",
              "      <td>@united UA 746. Pacific Rim and Date Night cut...</td>\n",
              "      <td>-1</td>\n",
              "    </tr>\n",
              "    <tr>\n",
              "      <th>...</th>\n",
              "      <td>...</td>\n",
              "      <td>...</td>\n",
              "      <td>...</td>\n",
              "    </tr>\n",
              "    <tr>\n",
              "      <th>7315</th>\n",
              "      <td>7316</td>\n",
              "      <td>@AmericanAir followback</td>\n",
              "      <td>0</td>\n",
              "    </tr>\n",
              "    <tr>\n",
              "      <th>7316</th>\n",
              "      <td>7317</td>\n",
              "      <td>@united thanks for the help. Wish the phone re...</td>\n",
              "      <td>1</td>\n",
              "    </tr>\n",
              "    <tr>\n",
              "      <th>7317</th>\n",
              "      <td>7318</td>\n",
              "      <td>@usairways the. Worst. Ever. #dca #customerser...</td>\n",
              "      <td>-1</td>\n",
              "    </tr>\n",
              "    <tr>\n",
              "      <th>7318</th>\n",
              "      <td>7319</td>\n",
              "      <td>@nrhodes85: look! Another apology. DO NOT FLY ...</td>\n",
              "      <td>-1</td>\n",
              "    </tr>\n",
              "    <tr>\n",
              "      <th>7319</th>\n",
              "      <td>7320</td>\n",
              "      <td>@united you are by far the worst airline.</td>\n",
              "      <td>-1</td>\n",
              "    </tr>\n",
              "  </tbody>\n",
              "</table>\n",
              "<p>7320 rows × 3 columns</p>\n",
              "</div>"
            ],
            "text/plain": [
              "        Id                                               text  Target\n",
              "0        1  @USAirways  ! THE WORST in customer service. @...      -1\n",
              "1        2  @united call wait times are over 20 minutes an...      -1\n",
              "2        3  @JetBlue what's up with the random delay on fl...      -1\n",
              "3        4  @AmericanAir Good morning!  Wondering why my p...       0\n",
              "4        5  @united UA 746. Pacific Rim and Date Night cut...      -1\n",
              "...    ...                                                ...     ...\n",
              "7315  7316                            @AmericanAir followback       0\n",
              "7316  7317  @united thanks for the help. Wish the phone re...       1\n",
              "7317  7318  @usairways the. Worst. Ever. #dca #customerser...      -1\n",
              "7318  7319  @nrhodes85: look! Another apology. DO NOT FLY ...      -1\n",
              "7319  7320          @united you are by far the worst airline.      -1\n",
              "\n",
              "[7320 rows x 3 columns]"
            ]
          },
          "metadata": {
            "tags": []
          },
          "execution_count": 434
        }
      ]
    },
    {
      "cell_type": "code",
      "metadata": {
        "id": "wzNQMNjCFFU1"
      },
      "source": [
        "train['text'] = train['text'].apply(lambda x: re.sub('\\s+',  ' ', str(x)))"
      ],
      "execution_count": null,
      "outputs": []
    },
    {
      "cell_type": "code",
      "metadata": {
        "id": "wmwO-jPJz5HH"
      },
      "source": [
        "train['text'] = train['text'].apply(lambda x: re.sub('[\\n\\t]',' ', str(x)))"
      ],
      "execution_count": null,
      "outputs": []
    },
    {
      "cell_type": "code",
      "metadata": {
        "id": "OZXqvLSLe_Nw"
      },
      "source": [
        "train[\"text\"] = train['text'].str.lower()"
      ],
      "execution_count": null,
      "outputs": []
    },
    {
      "cell_type": "markdown",
      "metadata": {
        "id": "lIDMIPuTbzmG"
      },
      "source": [
        "# Tokenizer"
      ]
    },
    {
      "cell_type": "code",
      "metadata": {
        "id": "6CGbcGpAPuYB"
      },
      "source": [
        "from nltk.tokenize import TweetTokenizer\n",
        "tokenizer = TweetTokenizer()\n",
        "train['text']=train['text'].apply(tokenizer.tokenize)"
      ],
      "execution_count": null,
      "outputs": []
    },
    {
      "cell_type": "code",
      "metadata": {
        "colab": {
          "base_uri": "https://localhost:8080/",
          "height": 217
        },
        "id": "9wRcS1wBV20m",
        "outputId": "0c39af1a-9d3d-4302-ebe4-318af95855a3"
      },
      "source": [
        "train['text']"
      ],
      "execution_count": null,
      "outputs": [
        {
          "output_type": "execute_result",
          "data": {
            "text/plain": [
              "0       [@usairways, !, the, worst, in, customer, serv...\n",
              "1       [@united, call, wait, times, are, over, 20, mi...\n",
              "2       [@jetblue, what's, up, with, the, random, dela...\n",
              "3       [@americanair, good, morning, !, wondering, wh...\n",
              "4       [@united, ua, 746, ., pacific, rim, and, date,...\n",
              "                              ...                        \n",
              "7315                           [@americanair, followback]\n",
              "7316    [@united, thanks, for, the, help, ., wish, the...\n",
              "7317    [@usairways, the, ., worst, ., ever, ., #dca, ...\n",
              "7318    [@nrhodes85, :, look, !, another, apology, ., ...\n",
              "7319    [@united, you, are, by, far, the, worst, airli...\n",
              "Name: text, Length: 7320, dtype: object"
            ]
          },
          "metadata": {
            "tags": []
          },
          "execution_count": 439
        }
      ]
    },
    {
      "cell_type": "markdown",
      "metadata": {
        "id": "0mNzmehEb5Af"
      },
      "source": [
        "# Stop words"
      ]
    },
    {
      "cell_type": "code",
      "metadata": {
        "colab": {
          "base_uri": "https://localhost:8080/",
          "height": 50
        },
        "id": "x_CIx_dvY0_V",
        "outputId": "fdf83134-4bc8-40a5-e7d1-f09a460fd68e"
      },
      "source": [
        "nltk.download('stopwords')\n",
        "from nltk.corpus import stopwords as nltk_stopwords\n",
        "stop = set(nltk_stopwords.words('english'))\n",
        "#\", \".join(stop)"
      ],
      "execution_count": null,
      "outputs": [
        {
          "output_type": "stream",
          "text": [
            "[nltk_data] Downloading package stopwords to /root/nltk_data...\n",
            "[nltk_data]   Package stopwords is already up-to-date!\n"
          ],
          "name": "stdout"
        }
      ]
    },
    {
      "cell_type": "code",
      "metadata": {
        "id": "9Jt2mp1QXtd7"
      },
      "source": [
        "train['text'] = train['text'].apply(lambda x: [i for i in x if i not in stop])"
      ],
      "execution_count": null,
      "outputs": []
    },
    {
      "cell_type": "code",
      "metadata": {
        "id": "0S5ZRcreSrQi"
      },
      "source": [
        "train['text'] = train['text'].apply(lambda x: ' '.join(ele for ele in x))"
      ],
      "execution_count": null,
      "outputs": []
    },
    {
      "cell_type": "code",
      "metadata": {
        "colab": {
          "base_uri": "https://localhost:8080/",
          "height": 217
        },
        "id": "6ycLzrvHYAq3",
        "outputId": "2a3a6ce6-4bb4-409d-829c-bb34cf686571"
      },
      "source": [
        "train['text']"
      ],
      "execution_count": null,
      "outputs": [
        {
          "output_type": "execute_result",
          "data": {
            "text/plain": [
              "0       @usairways ! worst customer service . @usairwa...\n",
              "1       @united call wait times 20 minutes airport wai...\n",
              "2       @jetblue what's random delay flight 1729 ? chance\n",
              "3       @americanair good morning ! wondering pre-tsa ...\n",
              "4       @united ua 746 . pacific rim date night cut . ...\n",
              "                              ...                        \n",
              "7315                              @americanair followback\n",
              "7316    @united thanks help . wish phone reps could ac...\n",
              "7317    @usairways . worst . ever . #dca #customerservice\n",
              "7318    @nrhodes85 : look ! another apology . fly @usa...\n",
              "7319                          @united far worst airline .\n",
              "Name: text, Length: 7320, dtype: object"
            ]
          },
          "metadata": {
            "tags": []
          },
          "execution_count": 443
        }
      ]
    },
    {
      "cell_type": "code",
      "metadata": {
        "id": "p5_N5KgVjZHC"
      },
      "source": [
        "from sklearn.feature_extraction.text import CountVectorizer\n",
        "from sklearn.feature_extraction.text import TfidfVectorizer\n",
        "\n",
        "vectorize = CountVectorizer()\n",
        "train_v = vectorize.fit_transform(train['text'])"
      ],
      "execution_count": null,
      "outputs": []
    },
    {
      "cell_type": "code",
      "metadata": {
        "id": "SzbFKgdbU_SZ"
      },
      "source": [
        "train_vtoa = train_v.toarray()\n",
        "vectorized = pd.DataFrame(train_vtoa)\n",
        "vectorized.columns = vectorize.get_feature_names()"
      ],
      "execution_count": null,
      "outputs": []
    },
    {
      "cell_type": "markdown",
      "metadata": {
        "id": "QbloLboHdKjs"
      },
      "source": [
        "# Models"
      ]
    },
    {
      "cell_type": "code",
      "metadata": {
        "colab": {
          "base_uri": "https://localhost:8080/",
          "height": 217
        },
        "id": "qhHZtfnSSzv-",
        "outputId": "2aab4e74-209d-40a4-8993-16fed9c1a70b"
      },
      "source": [
        "clf = LogisticRegression(max_iter=10000)\n",
        "\n",
        "clf_param= {}\n",
        "clf_grid = GridSearchCV(clf, clf_param,cv=10, return_train_score=True)\n",
        "clf_grid.fit(train_v,train['Target'])"
      ],
      "execution_count": null,
      "outputs": [
        {
          "output_type": "execute_result",
          "data": {
            "text/plain": [
              "GridSearchCV(cv=10, error_score=nan,\n",
              "             estimator=LogisticRegression(C=1.0, class_weight=None, dual=False,\n",
              "                                          fit_intercept=True,\n",
              "                                          intercept_scaling=1, l1_ratio=None,\n",
              "                                          max_iter=10000, multi_class='auto',\n",
              "                                          n_jobs=None, penalty='l2',\n",
              "                                          random_state=None, solver='lbfgs',\n",
              "                                          tol=0.0001, verbose=0,\n",
              "                                          warm_start=False),\n",
              "             iid='deprecated', n_jobs=None, param_grid={},\n",
              "             pre_dispatch='2*n_jobs', refit=True, return_train_score=True,\n",
              "             scoring=None, verbose=0)"
            ]
          },
          "metadata": {
            "tags": []
          },
          "execution_count": 458
        }
      ]
    },
    {
      "cell_type": "code",
      "metadata": {
        "id": "qWL2xd0tSz57"
      },
      "source": [
        "y_pred = clf_grid.predict(vectorized)"
      ],
      "execution_count": null,
      "outputs": []
    },
    {
      "cell_type": "code",
      "metadata": {
        "id": "M5DEtpXuS0Cr"
      },
      "source": [
        "from sklearn.metrics import f1_score"
      ],
      "execution_count": null,
      "outputs": []
    },
    {
      "cell_type": "code",
      "metadata": {
        "colab": {
          "base_uri": "https://localhost:8080/",
          "height": 33
        },
        "id": "L18y40LRWkfd",
        "outputId": "c289fae9-ea85-40a6-a727-e2912bb43cf0"
      },
      "source": [
        "f1_score(train['Target'], y_pred, average='macro')"
      ],
      "execution_count": null,
      "outputs": [
        {
          "output_type": "execute_result",
          "data": {
            "text/plain": [
              "0.8341757494748424"
            ]
          },
          "metadata": {
            "tags": []
          },
          "execution_count": 460
        }
      ]
    },
    {
      "cell_type": "code",
      "metadata": {
        "colab": {
          "base_uri": "https://localhost:8080/",
          "height": 250
        },
        "id": "SPLVq4W2cQES",
        "outputId": "fd982aac-b6b3-4cb9-d9d6-45dbf594172c"
      },
      "source": [
        "from xgboost import XGBClassifier\n",
        "xgbc= XGBClassifier(random_state=0)\n",
        "xgbc_param = {\n",
        "              \n",
        "             }\n",
        "xgbc_grid = GridSearchCV(xgbc, xgbc_param,cv=5, return_train_score=True )\n",
        "xgbc_grid.fit(train_v,train['Target'])"
      ],
      "execution_count": null,
      "outputs": [
        {
          "output_type": "execute_result",
          "data": {
            "text/plain": [
              "GridSearchCV(cv=5, error_score=nan,\n",
              "             estimator=XGBClassifier(base_score=0.5, booster='gbtree',\n",
              "                                     colsample_bylevel=1, colsample_bynode=1,\n",
              "                                     colsample_bytree=1, gamma=0,\n",
              "                                     learning_rate=0.1, max_delta_step=0,\n",
              "                                     max_depth=3, min_child_weight=1,\n",
              "                                     missing=None, n_estimators=100, n_jobs=1,\n",
              "                                     nthread=None, objective='binary:logistic',\n",
              "                                     random_state=0, reg_alpha=0, reg_lambda=1,\n",
              "                                     scale_pos_weight=1, seed=None, silent=None,\n",
              "                                     subsample=1, verbosity=1),\n",
              "             iid='deprecated', n_jobs=None, param_grid={},\n",
              "             pre_dispatch='2*n_jobs', refit=True, return_train_score=True,\n",
              "             scoring=None, verbose=0)"
            ]
          },
          "metadata": {
            "tags": []
          },
          "execution_count": 450
        }
      ]
    },
    {
      "cell_type": "code",
      "metadata": {
        "id": "0aghzvDRi9vq"
      },
      "source": [
        "#y_pred = xgbc_grid.predict(vectorized)\n",
        "#f1_score(train['Target'], y_pred2, average='macro')"
      ],
      "execution_count": null,
      "outputs": []
    },
    {
      "cell_type": "code",
      "metadata": {
        "id": "pXdoUdglWucS"
      },
      "source": [
        "test['text'] = test['text'].apply(lambda x: re.split('https:\\/\\/.*', str(x))[0])\n",
        "test['text'] = test['text'].apply(lambda x: re.split('\\s[^\\!\\?\\$]\\s', str(x))[0])\n",
        "test['text'] = test['text'].apply(lambda x: re.sub('\\s+',  ' ', str(x)))\n",
        "test['text'] = test['text'].apply(lambda x: re.sub('[\\n\\t]',' ', str(x)))\n",
        "test[\"text\"] = test['text'].str.lower()\n",
        "test['text']=test['text'].apply(tokenizer.tokenize)\n",
        "test['text'] = test['text'].apply(lambda x: [i for i in x if i not in stop])\n",
        "test['text'] = test['text'].apply(lambda x: ' '.join(ele for ele in x))\n"
      ],
      "execution_count": null,
      "outputs": []
    },
    {
      "cell_type": "code",
      "metadata": {
        "id": "sjqD6-u9WkzK"
      },
      "source": [
        "test_v = vectorize.transform(test['text'])\n",
        "test_vtoa = test_v.toarray()\n",
        "test_vectorized = pd.DataFrame(test_vtoa)\n",
        "test_vectorized.columns = vectorize.get_feature_names()"
      ],
      "execution_count": null,
      "outputs": []
    },
    {
      "cell_type": "code",
      "metadata": {
        "ExecuteTime": {
          "end_time": "2020-09-07T03:42:32.263053Z",
          "start_time": "2020-09-07T03:42:32.141123Z"
        },
        "id": "fic24BAKXn_3"
      },
      "source": [
        "test['Target'] = clf_grid.predict(test_v)\n",
        "test.to_csv('clf_predictions1.csv')"
      ],
      "execution_count": null,
      "outputs": []
    },
    {
      "cell_type": "code",
      "metadata": {
        "id": "uwtWsawtXoOT"
      },
      "source": [
        "test['Target'] = xgbc_grid.predict(test_v)\n",
        "test.to_csv('xgb_predictions1.csv')"
      ],
      "execution_count": null,
      "outputs": []
    }
  ]
}